{
 "cells": [
  {
   "cell_type": "markdown",
   "id": "ac06931f-e84b-47aa-8830-51ee5d066203",
   "metadata": {},
   "source": [
    "# Data Science Tools and Ecosystem\n"
   ]
  },
  {
   "cell_type": "markdown",
   "id": "f84d384c-e6b8-42f3-be02-d14bb12c5f3d",
   "metadata": {},
   "source": [
    "In this notebook, we will explore various tools and languages used by data scientists. This includes programming languages, libraries,\n",
    "tools, and simple arithmetic operations.\n"
   ]
  },
  {
   "cell_type": "markdown",
   "id": "5eca2995-a5cf-4218-9699-25b70fbf82a0",
   "metadata": {
    "jp-MarkdownHeadingCollapsed": true
   },
   "source": [
    "### Some of the popular languages that Data Scientists use are:\n",
    "1. Python  \n",
    "2. R  \n",
    "3. SQL  \n",
    "4. Java  \n",
    "5. Julia\n"
   ]
  },
  {
   "cell_type": "markdown",
   "id": "f5a24360-f823-40d9-9fc8-9580b943c8f0",
   "metadata": {},
   "source": [
    "### Some of the commonly used libraries used by Data Scientists include:\n",
    "1. Pandas  \n",
    "2. NumPy  \n",
    "3. Matplotlib  \n",
    "4. Scikit-learn  \n",
    "5. TensorFlow  \n",
    "6. Keras\n"
   ]
  },
  {
   "cell_type": "markdown",
   "id": "e8d731da-1eff-4b74-b1bc-3f3960cba45f",
   "metadata": {},
   "source": [
    "| Data Science Tools     |\n",
    "|------------------------|\n",
    "| Jupyter Notebook       |\n",
    "| RStudio                |\n",
    "| Apache Zeppelin        |\n"
   ]
  },
  {
   "cell_type": "markdown",
   "id": "d4387c4f-f473-4311-bbcf-adf2678f61a8",
   "metadata": {},
   "source": [
    "### Below are a few examples of evaluating arithmetic expressions in Python:\n",
    "- 3 + 5  \n",
    "- 2 * 6  \n",
    "- (4 + 3) / 2  \n"
   ]
  },
  {
   "cell_type": "markdown",
   "id": "62d3b0e1-ce91-4023-87cd-84c1e7866b96",
   "metadata": {},
   "source": [
    "# This is a simple arithmetic expression to multiply and add integers\n",
    "(3 * 4) + 5 =17\n"
   ]
  },
  {
   "cell_type": "markdown",
   "id": "7bc2e52e-9693-4be1-9d9e-5ac2988394f0",
   "metadata": {},
   "source": [
    "# This will convert 200 minutes to hours\n",
    "200 / 60 = 3.3333\n"
   ]
  },
  {
   "cell_type": "markdown",
   "id": "b43267bb-246a-4c18-967c-70e190d25f5f",
   "metadata": {},
   "source": [
    "### Objectives:\n",
    "- List popular languages for Data Science  \n",
    "- List commonly used libraries  \n",
    "- Create tables in markdown  \n",
    "- Use arithmetic expressions  \n",
    "- Convert units using Python\n"
   ]
  },
  {
   "cell_type": "markdown",
   "id": "0ac1e50c-44c2-4afa-96ea-f1b8a3ebc814",
   "metadata": {},
   "source": [
    "## Author\n",
    "Sreevarshini Surendran\n"
   ]
  }
 ],
 "metadata": {
  "kernelspec": {
   "display_name": "Python 3 (ipykernel)",
   "language": "python",
   "name": "python3"
  },
  "language_info": {
   "codemirror_mode": {
    "name": "ipython",
    "version": 3
   },
   "file_extension": ".py",
   "mimetype": "text/x-python",
   "name": "python",
   "nbconvert_exporter": "python",
   "pygments_lexer": "ipython3",
   "version": "3.12.8"
  }
 },
 "nbformat": 4,
 "nbformat_minor": 5
}
